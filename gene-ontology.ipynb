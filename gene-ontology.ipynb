{
 "metadata": {
  "name": ""
 },
 "nbformat": 3,
 "nbformat_minor": 0,
 "worksheets": [
  {
   "cells": [
    {
     "cell_type": "markdown",
     "metadata": {},
     "source": [
      "# Import the abbreviated Spellman data set for clustering"
     ]
    },
    {
     "cell_type": "code",
     "collapsed": false,
     "input": [
      "import pandas as pd"
     ],
     "language": "python",
     "metadata": {},
     "outputs": [],
     "prompt_number": 228
    },
    {
     "cell_type": "code",
     "collapsed": false,
     "input": [
      "data = pd.read_csv('spellman-tocluster.csv', index_col=0)"
     ],
     "language": "python",
     "metadata": {},
     "outputs": [],
     "prompt_number": 229
    },
    {
     "cell_type": "code",
     "collapsed": false,
     "input": [
      "data.shape"
     ],
     "language": "python",
     "metadata": {},
     "outputs": [
      {
       "metadata": {},
       "output_type": "pyout",
       "prompt_number": 230,
       "text": [
        "(77, 724)"
       ]
      }
     ],
     "prompt_number": 230
    },
    {
     "cell_type": "code",
     "collapsed": false,
     "input": [
      "data.head()"
     ],
     "language": "python",
     "metadata": {},
     "outputs": [
      {
       "html": [
        "<div style=\"max-height:1000px;max-width:1500px;overflow:auto;\">\n",
        "<table border=\"1\" class=\"dataframe\">\n",
        "  <thead>\n",
        "    <tr style=\"text-align: right;\">\n",
        "      <th></th>\n",
        "      <th>YAL022C</th>\n",
        "      <th>YAL040C</th>\n",
        "      <th>YAL053W</th>\n",
        "      <th>YAL067C</th>\n",
        "      <th>YAR003W</th>\n",
        "      <th>YAR007C</th>\n",
        "      <th>YAR008W</th>\n",
        "      <th>YAR018C</th>\n",
        "      <th>YBL002W</th>\n",
        "      <th>YBL003C</th>\n",
        "      <th>YBL009W</th>\n",
        "      <th>YBL023C</th>\n",
        "      <th>YBL030C</th>\n",
        "      <th>YBL035C</th>\n",
        "      <th>YBL052C</th>\n",
        "      <th>YBL061C</th>\n",
        "      <th>YBL063W</th>\n",
        "      <th>YBL064C</th>\n",
        "      <th>YBL098W</th>\n",
        "      <th>YBL111C</th>\n",
        "      <th></th>\n",
        "    </tr>\n",
        "  </thead>\n",
        "  <tbody>\n",
        "    <tr>\n",
        "      <th>cln3-1</th>\n",
        "      <td>-0.22</td>\n",
        "      <td> 3.43</td>\n",
        "      <td> 0.34</td>\n",
        "      <td>-0.15</td>\n",
        "      <td> 0.41</td>\n",
        "      <td> 0.77</td>\n",
        "      <td> 0.06</td>\n",
        "      <td>-0.25</td>\n",
        "      <td> 1.17</td>\n",
        "      <td> 1.30</td>\n",
        "      <td> 0.56</td>\n",
        "      <td> 0.29</td>\n",
        "      <td> 0.07</td>\n",
        "      <td> 0.45</td>\n",
        "      <td> 0.69</td>\n",
        "      <td>-0.09</td>\n",
        "      <td> 0.54</td>\n",
        "      <td>-0.94</td>\n",
        "      <td>-0.40</td>\n",
        "      <td> 1.04</td>\n",
        "      <td>...</td>\n",
        "    </tr>\n",
        "    <tr>\n",
        "      <th>cln3-2</th>\n",
        "      <td>-0.86</td>\n",
        "      <td> 2.75</td>\n",
        "      <td> 0.90</td>\n",
        "      <td>-1.25</td>\n",
        "      <td> 0.25</td>\n",
        "      <td> 0.80</td>\n",
        "      <td>-1.22</td>\n",
        "      <td>-0.81</td>\n",
        "      <td> 1.84</td>\n",
        "      <td> 1.47</td>\n",
        "      <td> 0.41</td>\n",
        "      <td>-0.38</td>\n",
        "      <td> 0.08</td>\n",
        "      <td>-0.32</td>\n",
        "      <td>-0.18</td>\n",
        "      <td> 0.14</td>\n",
        "      <td> 0.32</td>\n",
        "      <td>-0.60</td>\n",
        "      <td>-1.03</td>\n",
        "      <td>  NaN</td>\n",
        "      <td>...</td>\n",
        "    </tr>\n",
        "    <tr>\n",
        "      <th>clb2-2</th>\n",
        "      <td>-0.25</td>\n",
        "      <td> 0.36</td>\n",
        "      <td>-0.58</td>\n",
        "      <td>  NaN</td>\n",
        "      <td>-0.62</td>\n",
        "      <td>-0.94</td>\n",
        "      <td>-0.76</td>\n",
        "      <td> 1.91</td>\n",
        "      <td>-0.17</td>\n",
        "      <td>-0.30</td>\n",
        "      <td>-0.45</td>\n",
        "      <td> 0.51</td>\n",
        "      <td> 0.11</td>\n",
        "      <td>-0.81</td>\n",
        "      <td>-0.42</td>\n",
        "      <td>-0.69</td>\n",
        "      <td>-0.74</td>\n",
        "      <td> 0.43</td>\n",
        "      <td> 0.06</td>\n",
        "      <td>  NaN</td>\n",
        "      <td>...</td>\n",
        "    </tr>\n",
        "    <tr>\n",
        "      <th>clb2-1</th>\n",
        "      <td> 0.89</td>\n",
        "      <td> 0.72</td>\n",
        "      <td>-0.92</td>\n",
        "      <td> 0.07</td>\n",
        "      <td>-0.29</td>\n",
        "      <td>-0.42</td>\n",
        "      <td>-0.42</td>\n",
        "      <td> 1.82</td>\n",
        "      <td>-0.94</td>\n",
        "      <td>-0.51</td>\n",
        "      <td> 0.38</td>\n",
        "      <td> 1.18</td>\n",
        "      <td> 0.06</td>\n",
        "      <td>-0.12</td>\n",
        "      <td> 0.25</td>\n",
        "      <td>-0.20</td>\n",
        "      <td>-0.06</td>\n",
        "      <td> 0.23</td>\n",
        "      <td>-0.04</td>\n",
        "      <td> 0.44</td>\n",
        "      <td>...</td>\n",
        "    </tr>\n",
        "    <tr>\n",
        "      <th>alpha0</th>\n",
        "      <td>-0.36</td>\n",
        "      <td> 1.04</td>\n",
        "      <td> 0.21</td>\n",
        "      <td> 0.01</td>\n",
        "      <td>-0.30</td>\n",
        "      <td>-0.48</td>\n",
        "      <td>-0.35</td>\n",
        "      <td>-0.46</td>\n",
        "      <td>-2.06</td>\n",
        "      <td>-1.61</td>\n",
        "      <td>-0.80</td>\n",
        "      <td>-0.32</td>\n",
        "      <td>-0.07</td>\n",
        "      <td>-0.39</td>\n",
        "      <td> 0.11</td>\n",
        "      <td> 0.15</td>\n",
        "      <td>-0.43</td>\n",
        "      <td>-0.23</td>\n",
        "      <td>-0.56</td>\n",
        "      <td>-0.66</td>\n",
        "      <td>...</td>\n",
        "    </tr>\n",
        "  </tbody>\n",
        "</table>\n",
        "<p>5 rows \u00d7 724 columns</p>\n",
        "</div>"
       ],
       "metadata": {},
       "output_type": "pyout",
       "prompt_number": 231,
       "text": [
        "        YAL022C  YAL040C  YAL053W  YAL067C  YAR003W  YAR007C  YAR008W  \\\n",
        "cln3-1    -0.22     3.43     0.34    -0.15     0.41     0.77     0.06   \n",
        "cln3-2    -0.86     2.75     0.90    -1.25     0.25     0.80    -1.22   \n",
        "clb2-2    -0.25     0.36    -0.58      NaN    -0.62    -0.94    -0.76   \n",
        "clb2-1     0.89     0.72    -0.92     0.07    -0.29    -0.42    -0.42   \n",
        "alpha0    -0.36     1.04     0.21     0.01    -0.30    -0.48    -0.35   \n",
        "\n",
        "        YAR018C  YBL002W  YBL003C  YBL009W  YBL023C  YBL030C  YBL035C  \\\n",
        "cln3-1    -0.25     1.17     1.30     0.56     0.29     0.07     0.45   \n",
        "cln3-2    -0.81     1.84     1.47     0.41    -0.38     0.08    -0.32   \n",
        "clb2-2     1.91    -0.17    -0.30    -0.45     0.51     0.11    -0.81   \n",
        "clb2-1     1.82    -0.94    -0.51     0.38     1.18     0.06    -0.12   \n",
        "alpha0    -0.46    -2.06    -1.61    -0.80    -0.32    -0.07    -0.39   \n",
        "\n",
        "        YBL052C  YBL061C  YBL063W  YBL064C  YBL098W  YBL111C      \n",
        "cln3-1     0.69    -0.09     0.54    -0.94    -0.40     1.04 ...  \n",
        "cln3-2    -0.18     0.14     0.32    -0.60    -1.03      NaN ...  \n",
        "clb2-2    -0.42    -0.69    -0.74     0.43     0.06      NaN ...  \n",
        "clb2-1     0.25    -0.20    -0.06     0.23    -0.04     0.44 ...  \n",
        "alpha0     0.11     0.15    -0.43    -0.23    -0.56    -0.66 ...  \n",
        "\n",
        "[5 rows x 724 columns]"
       ]
      }
     ],
     "prompt_number": 231
    },
    {
     "cell_type": "markdown",
     "metadata": {},
     "source": [
      "# Carry out hierarchical clustering using UPGMA algorithm"
     ]
    },
    {
     "cell_type": "code",
     "collapsed": false,
     "input": [
      "from scipy.cluster import hierarchy"
     ],
     "language": "python",
     "metadata": {},
     "outputs": []
    },
    {
     "cell_type": "code",
     "collapsed": false,
     "input": [
      "dist = 1 - data.corr()"
     ],
     "language": "python",
     "metadata": {},
     "outputs": [],
     "prompt_number": 232
    },
    {
     "cell_type": "code",
     "collapsed": false,
     "input": [
      "dist.shape"
     ],
     "language": "python",
     "metadata": {},
     "outputs": [
      {
       "metadata": {},
       "output_type": "pyout",
       "prompt_number": 233,
       "text": [
        "(724, 724)"
       ]
      }
     ],
     "prompt_number": 233
    },
    {
     "cell_type": "code",
     "collapsed": false,
     "input": [
      "upgma_clustering = hierarchy.linkage(dist, method = \"average\") "
     ],
     "language": "python",
     "metadata": {},
     "outputs": [],
     "prompt_number": 234
    },
    {
     "cell_type": "code",
     "collapsed": false,
     "input": [
      "clusters = hierarchy.fcluster(upgma_clustering, 6, 'distance')  # define clusters with a distance cutoff of 6"
     ],
     "language": "python",
     "metadata": {},
     "outputs": [],
     "prompt_number": 235
    },
    {
     "cell_type": "code",
     "collapsed": false,
     "input": [
      "len(set(clusters)) # how many clusters are there?"
     ],
     "language": "python",
     "metadata": {},
     "outputs": [
      {
       "metadata": {},
       "output_type": "pyout",
       "prompt_number": 269,
       "text": [
        "23"
       ]
      }
     ],
     "prompt_number": 269
    },
    {
     "cell_type": "code",
     "collapsed": false,
     "input": [
      "fig = figure(figsize = (6,10))\n",
      "tree = hierarchy.dendrogram(upgma_clustering, orientation='right', labels=clusters, color_threshold=6)"
     ],
     "language": "python",
     "metadata": {},
     "outputs": [
      {
       "metadata": {},
       "output_type": "display_data",
       "png": "[encoded data removed]",
       "text": [
        "<matplotlib.figure.Figure at 0xc512a90>"
       ]
      }
     ],
     "prompt_number": 236
    },
    {
     "cell_type": "code",
     "collapsed": false,
     "input": [
      "# Zoom in on the lower portion of the dendrogram\n",
      "\n",
      "fig = figure(figsize = (6,12))\n",
      "tree = hierarchy.dendrogram(upgma_clustering, orientation='right', labels=clusters, color_threshold=6)\n",
      "ylim(0,1200)"
     ],
     "language": "python",
     "metadata": {},
     "outputs": [
      {
       "metadata": {},
       "output_type": "pyout",
       "prompt_number": 237,
       "text": [
        "(0, 1200)"
       ]
      },
      {
       "metadata": {},
       "output_type": "display_data",
       "png": "[encoded data removed]",
       "text": [
        "<matplotlib.figure.Figure at 0xbf0ff10>"
       ]
      }
     ],
     "prompt_number": 237
    },
    {
     "cell_type": "code",
     "collapsed": false,
     "input": [
      "# get list of genes in cluster 1\n",
      "cluster1genes = list(data.columns[clusters == 1])"
     ],
     "language": "python",
     "metadata": {},
     "outputs": [],
     "prompt_number": 310
    },
    {
     "cell_type": "code",
     "collapsed": false,
     "input": [
      "len(cluster1genes)"
     ],
     "language": "python",
     "metadata": {},
     "outputs": [
      {
       "metadata": {},
       "output_type": "pyout",
       "prompt_number": 239,
       "text": [
        "68"
       ]
      }
     ],
     "prompt_number": 239
    },
    {
     "cell_type": "markdown",
     "metadata": {},
     "source": [
      "# Reading in the GO file"
     ]
    },
    {
     "cell_type": "code",
     "collapsed": false,
     "input": [
      "# Read in go_slim_mapping.tab file downloaded from Saccharomyces Genome Database\n",
      "goslim = pd.read_table('go_slim_mapping.tab', header=None, index_col=0, \n",
      "                       names=['orf','gene','id','aspect','slim','goid','ftrtype'])"
     ],
     "language": "python",
     "metadata": {},
     "outputs": [],
     "prompt_number": 240
    },
    {
     "cell_type": "code",
     "collapsed": false,
     "input": [
      "goslim.head()"
     ],
     "language": "python",
     "metadata": {},
     "outputs": [
      {
       "html": [
        "<div style=\"max-height:1000px;max-width:1500px;overflow:auto;\">\n",
        "<table border=\"1\" class=\"dataframe\">\n",
        "  <thead>\n",
        "    <tr style=\"text-align: right;\">\n",
        "      <th></th>\n",
        "      <th>gene</th>\n",
        "      <th>id</th>\n",
        "      <th>aspect</th>\n",
        "      <th>slim</th>\n",
        "      <th>goid</th>\n",
        "      <th>ftrtype</th>\n",
        "    </tr>\n",
        "    <tr>\n",
        "      <th>orf</th>\n",
        "      <th></th>\n",
        "      <th></th>\n",
        "      <th></th>\n",
        "      <th></th>\n",
        "      <th></th>\n",
        "      <th></th>\n",
        "    </tr>\n",
        "  </thead>\n",
        "  <tbody>\n",
        "    <tr>\n",
        "      <th>15S_rRNA</th>\n",
        "      <td> 15S_RRNA</td>\n",
        "      <td> S000007287</td>\n",
        "      <td> C</td>\n",
        "      <td>                             cytoplasm</td>\n",
        "      <td> GO:0005737</td>\n",
        "      <td> rRNA</td>\n",
        "    </tr>\n",
        "    <tr>\n",
        "      <th>15S_rRNA</th>\n",
        "      <td> 15S_RRNA</td>\n",
        "      <td> S000007287</td>\n",
        "      <td> C</td>\n",
        "      <td>                mitochondrial ribosome</td>\n",
        "      <td> GO:0005761</td>\n",
        "      <td> rRNA</td>\n",
        "    </tr>\n",
        "    <tr>\n",
        "      <th>15S_rRNA</th>\n",
        "      <td> 15S_RRNA</td>\n",
        "      <td> S000007287</td>\n",
        "      <td> C</td>\n",
        "      <td> mitochondrial small ribosomal subunit</td>\n",
        "      <td> GO:0005763</td>\n",
        "      <td> rRNA</td>\n",
        "    </tr>\n",
        "    <tr>\n",
        "      <th>15S_rRNA</th>\n",
        "      <td> 15S_RRNA</td>\n",
        "      <td> S000007287</td>\n",
        "      <td> C</td>\n",
        "      <td>                         mitochondrion</td>\n",
        "      <td> GO:0005739</td>\n",
        "      <td> rRNA</td>\n",
        "    </tr>\n",
        "    <tr>\n",
        "      <th>15S_rRNA</th>\n",
        "      <td> 15S_RRNA</td>\n",
        "      <td> S000007287</td>\n",
        "      <td> C</td>\n",
        "      <td>             ribonucleoprotein complex</td>\n",
        "      <td> GO:0030529</td>\n",
        "      <td> rRNA</td>\n",
        "    </tr>\n",
        "  </tbody>\n",
        "</table>\n",
        "<p>5 rows \u00d7 6 columns</p>\n",
        "</div>"
       ],
       "metadata": {},
       "output_type": "pyout",
       "prompt_number": 241,
       "text": [
        "              gene          id aspect                                   slim  \\\n",
        "orf                                                                            \n",
        "15S_rRNA  15S_RRNA  S000007287      C                              cytoplasm   \n",
        "15S_rRNA  15S_RRNA  S000007287      C                 mitochondrial ribosome   \n",
        "15S_rRNA  15S_RRNA  S000007287      C  mitochondrial small ribosomal subunit   \n",
        "15S_rRNA  15S_RRNA  S000007287      C                          mitochondrion   \n",
        "15S_rRNA  15S_RRNA  S000007287      C              ribonucleoprotein complex   \n",
        "\n",
        "                goid ftrtype  \n",
        "orf                           \n",
        "15S_rRNA  GO:0005737    rRNA  \n",
        "15S_rRNA  GO:0005761    rRNA  \n",
        "15S_rRNA  GO:0005763    rRNA  \n",
        "15S_rRNA  GO:0005739    rRNA  \n",
        "15S_rRNA  GO:0030529    rRNA  \n",
        "\n",
        "[5 rows x 6 columns]"
       ]
      }
     ],
     "prompt_number": 241
    },
    {
     "cell_type": "code",
     "collapsed": false,
     "input": [
      "# For now let's concentrate on GO \"process\" terms\n",
      "goprocess = goslim[goslim['aspect'] == 'P']"
     ],
     "language": "python",
     "metadata": {},
     "outputs": [],
     "prompt_number": 242
    },
    {
     "cell_type": "code",
     "collapsed": false,
     "input": [
      "len(goprocess)"
     ],
     "language": "python",
     "metadata": {},
     "outputs": [
      {
       "metadata": {},
       "output_type": "pyout",
       "prompt_number": 243,
       "text": [
        "15350"
       ]
      }
     ],
     "prompt_number": 243
    },
    {
     "cell_type": "code",
     "collapsed": false,
     "input": [
      "goprocess.head()"
     ],
     "language": "python",
     "metadata": {},
     "outputs": [
      {
       "html": [
        "<div style=\"max-height:1000px;max-width:1500px;overflow:auto;\">\n",
        "<table border=\"1\" class=\"dataframe\">\n",
        "  <thead>\n",
        "    <tr style=\"text-align: right;\">\n",
        "      <th></th>\n",
        "      <th>gene</th>\n",
        "      <th>id</th>\n",
        "      <th>aspect</th>\n",
        "      <th>slim</th>\n",
        "      <th>goid</th>\n",
        "      <th>ftrtype</th>\n",
        "    </tr>\n",
        "    <tr>\n",
        "      <th>orf</th>\n",
        "      <th></th>\n",
        "      <th></th>\n",
        "      <th></th>\n",
        "      <th></th>\n",
        "      <th></th>\n",
        "      <th></th>\n",
        "    </tr>\n",
        "  </thead>\n",
        "  <tbody>\n",
        "    <tr>\n",
        "      <th>15S_rRNA</th>\n",
        "      <td> 15S_RRNA</td>\n",
        "      <td> S000007287</td>\n",
        "      <td> P</td>\n",
        "      <td>  mitochondrial translation</td>\n",
        "      <td> GO:0032543</td>\n",
        "      <td> rRNA</td>\n",
        "    </tr>\n",
        "    <tr>\n",
        "      <th>15S_rRNA</th>\n",
        "      <td> 15S_RRNA</td>\n",
        "      <td> S000007287</td>\n",
        "      <td> P</td>\n",
        "      <td> mitochondrion organization</td>\n",
        "      <td> GO:0007005</td>\n",
        "      <td> rRNA</td>\n",
        "    </tr>\n",
        "    <tr>\n",
        "      <th>15S_rRNA</th>\n",
        "      <td> 15S_RRNA</td>\n",
        "      <td> S000007287</td>\n",
        "      <td> P</td>\n",
        "      <td>         organelle assembly</td>\n",
        "      <td> GO:0070925</td>\n",
        "      <td> rRNA</td>\n",
        "    </tr>\n",
        "    <tr>\n",
        "      <th>15S_rRNA</th>\n",
        "      <td> 15S_RRNA</td>\n",
        "      <td> S000007287</td>\n",
        "      <td> P</td>\n",
        "      <td>          ribosome assembly</td>\n",
        "      <td> GO:0042255</td>\n",
        "      <td> rRNA</td>\n",
        "    </tr>\n",
        "    <tr>\n",
        "      <th>21S_rRNA</th>\n",
        "      <td> 21S_RRNA</td>\n",
        "      <td> S000007288</td>\n",
        "      <td> P</td>\n",
        "      <td>  mitochondrial translation</td>\n",
        "      <td> GO:0032543</td>\n",
        "      <td> rRNA</td>\n",
        "    </tr>\n",
        "  </tbody>\n",
        "</table>\n",
        "<p>5 rows \u00d7 6 columns</p>\n",
        "</div>"
       ],
       "metadata": {},
       "output_type": "pyout",
       "prompt_number": 244,
       "text": [
        "              gene          id aspect                        slim        goid  \\\n",
        "orf                                                                             \n",
        "15S_rRNA  15S_RRNA  S000007287      P   mitochondrial translation  GO:0032543   \n",
        "15S_rRNA  15S_RRNA  S000007287      P  mitochondrion organization  GO:0007005   \n",
        "15S_rRNA  15S_RRNA  S000007287      P          organelle assembly  GO:0070925   \n",
        "15S_rRNA  15S_RRNA  S000007287      P           ribosome assembly  GO:0042255   \n",
        "21S_rRNA  21S_RRNA  S000007288      P   mitochondrial translation  GO:0032543   \n",
        "\n",
        "         ftrtype  \n",
        "orf               \n",
        "15S_rRNA    rRNA  \n",
        "15S_rRNA    rRNA  \n",
        "15S_rRNA    rRNA  \n",
        "15S_rRNA    rRNA  \n",
        "21S_rRNA    rRNA  \n",
        "\n",
        "[5 rows x 6 columns]"
       ]
      }
     ],
     "prompt_number": 244
    },
    {
     "cell_type": "code",
     "collapsed": false,
     "input": [
      "# focus specifically on stabdard gene encoding open reading frames (ORFs)\n",
      "\n",
      "go_verified = goprocess['ftrtype'] == 'ORF|Verified'\n",
      "go_dubious = goprocess['ftrtype'] == 'ORF|Dubious'\n",
      "go_genes = goprocess[go_verified | go_dubious]"
     ],
     "language": "python",
     "metadata": {},
     "outputs": [],
     "prompt_number": 311
    },
    {
     "cell_type": "code",
     "collapsed": false,
     "input": [
      "go_genes.head()"
     ],
     "language": "python",
     "metadata": {},
     "outputs": [
      {
       "html": [
        "<div style=\"max-height:1000px;max-width:1500px;overflow:auto;\">\n",
        "<table border=\"1\" class=\"dataframe\">\n",
        "  <thead>\n",
        "    <tr style=\"text-align: right;\">\n",
        "      <th></th>\n",
        "      <th>gene</th>\n",
        "      <th>id</th>\n",
        "      <th>aspect</th>\n",
        "      <th>slim</th>\n",
        "      <th>goid</th>\n",
        "      <th>ftrtype</th>\n",
        "    </tr>\n",
        "    <tr>\n",
        "      <th>orf</th>\n",
        "      <th></th>\n",
        "      <th></th>\n",
        "      <th></th>\n",
        "      <th></th>\n",
        "      <th></th>\n",
        "      <th></th>\n",
        "    </tr>\n",
        "  </thead>\n",
        "  <tbody>\n",
        "    <tr>\n",
        "      <th>Q0010</th>\n",
        "      <td>  NaN</td>\n",
        "      <td> S000007257</td>\n",
        "      <td> P</td>\n",
        "      <td>                             biological_process</td>\n",
        "      <td> GO:0008150</td>\n",
        "      <td>  ORF|Dubious</td>\n",
        "    </tr>\n",
        "    <tr>\n",
        "      <th>Q0017</th>\n",
        "      <td>  NaN</td>\n",
        "      <td> S000007258</td>\n",
        "      <td> P</td>\n",
        "      <td>                             biological_process</td>\n",
        "      <td> GO:0008150</td>\n",
        "      <td>  ORF|Dubious</td>\n",
        "    </tr>\n",
        "    <tr>\n",
        "      <th>Q0032</th>\n",
        "      <td>  NaN</td>\n",
        "      <td> S000007259</td>\n",
        "      <td> P</td>\n",
        "      <td>                             biological_process</td>\n",
        "      <td> GO:0008150</td>\n",
        "      <td>  ORF|Dubious</td>\n",
        "    </tr>\n",
        "    <tr>\n",
        "      <th>Q0045</th>\n",
        "      <td> COX1</td>\n",
        "      <td> S000007260</td>\n",
        "      <td> P</td>\n",
        "      <td>                           cellular respiration</td>\n",
        "      <td> GO:0045333</td>\n",
        "      <td> ORF|Verified</td>\n",
        "    </tr>\n",
        "    <tr>\n",
        "      <th>Q0045</th>\n",
        "      <td> COX1</td>\n",
        "      <td> S000007260</td>\n",
        "      <td> P</td>\n",
        "      <td> generation of precursor metabolites and energy</td>\n",
        "      <td> GO:0006091</td>\n",
        "      <td> ORF|Verified</td>\n",
        "    </tr>\n",
        "  </tbody>\n",
        "</table>\n",
        "<p>5 rows \u00d7 6 columns</p>\n",
        "</div>"
       ],
       "metadata": {},
       "output_type": "pyout",
       "prompt_number": 312,
       "text": [
        "       gene          id aspect  \\\n",
        "orf                              \n",
        "Q0010   NaN  S000007257      P   \n",
        "Q0017   NaN  S000007258      P   \n",
        "Q0032   NaN  S000007259      P   \n",
        "Q0045  COX1  S000007260      P   \n",
        "Q0045  COX1  S000007260      P   \n",
        "\n",
        "                                                 slim        goid  \\\n",
        "orf                                                                 \n",
        "Q0010                              biological_process  GO:0008150   \n",
        "Q0017                              biological_process  GO:0008150   \n",
        "Q0032                              biological_process  GO:0008150   \n",
        "Q0045                            cellular respiration  GO:0045333   \n",
        "Q0045  generation of precursor metabolites and energy  GO:0006091   \n",
        "\n",
        "            ftrtype  \n",
        "orf                  \n",
        "Q0010   ORF|Dubious  \n",
        "Q0017   ORF|Dubious  \n",
        "Q0032   ORF|Dubious  \n",
        "Q0045  ORF|Verified  \n",
        "Q0045  ORF|Verified  \n",
        "\n",
        "[5 rows x 6 columns]"
       ]
      }
     ],
     "prompt_number": 312
    },
    {
     "cell_type": "markdown",
     "metadata": {},
     "source": [
      "# Combine clustering and GO terms"
     ]
    },
    {
     "cell_type": "code",
     "collapsed": false,
     "input": [
      "# find set of genes that are shared between the GO data set and our clustering data set\n",
      "cluster_go_overlap = [i for i in data.columns if i in go_genes.index]\n",
      "cluster_go = go_genes.ix[cluster_go_overlap]"
     ],
     "language": "python",
     "metadata": {},
     "outputs": [],
     "prompt_number": 313
    },
    {
     "cell_type": "code",
     "collapsed": false,
     "input": [
      "# get GO information for genes in cluster 1\n",
      "cluster1_go = cluster_go.ix[cluster1genes]"
     ],
     "language": "python",
     "metadata": {},
     "outputs": [],
     "prompt_number": 315
    },
    {
     "cell_type": "code",
     "collapsed": false,
     "input": [
      "cluster1_go.head()"
     ],
     "language": "python",
     "metadata": {},
     "outputs": [
      {
       "html": [
        "<div style=\"max-height:1000px;max-width:1500px;overflow:auto;\">\n",
        "<table border=\"1\" class=\"dataframe\">\n",
        "  <thead>\n",
        "    <tr style=\"text-align: right;\">\n",
        "      <th></th>\n",
        "      <th>gene</th>\n",
        "      <th>id</th>\n",
        "      <th>aspect</th>\n",
        "      <th>slim</th>\n",
        "      <th>goid</th>\n",
        "      <th>ftrtype</th>\n",
        "    </tr>\n",
        "  </thead>\n",
        "  <tbody>\n",
        "    <tr>\n",
        "      <th>YBL098W</th>\n",
        "      <td>  BNA4</td>\n",
        "      <td> S000000194</td>\n",
        "      <td> P</td>\n",
        "      <td>                        cofactor metabolic process</td>\n",
        "      <td> GO:0051186</td>\n",
        "      <td> ORF|Verified</td>\n",
        "    </tr>\n",
        "    <tr>\n",
        "      <th>YBL098W</th>\n",
        "      <td>  BNA4</td>\n",
        "      <td> S000000194</td>\n",
        "      <td> P</td>\n",
        "      <td> nucleobase-containing small molecule metabolic...</td>\n",
        "      <td> GO:0055086</td>\n",
        "      <td> ORF|Verified</td>\n",
        "    </tr>\n",
        "    <tr>\n",
        "      <th>YBR038W</th>\n",
        "      <td>  CHS2</td>\n",
        "      <td> S000000242</td>\n",
        "      <td> P</td>\n",
        "      <td>                                       cytokinesis</td>\n",
        "      <td> GO:0000910</td>\n",
        "      <td> ORF|Verified</td>\n",
        "    </tr>\n",
        "    <tr>\n",
        "      <th>YBR094W</th>\n",
        "      <td>  PBY1</td>\n",
        "      <td> S000000298</td>\n",
        "      <td> P</td>\n",
        "      <td>                                biological_process</td>\n",
        "      <td> GO:0008150</td>\n",
        "      <td> ORF|Verified</td>\n",
        "    </tr>\n",
        "    <tr>\n",
        "      <th>YCL038C</th>\n",
        "      <td> ATG22</td>\n",
        "      <td> S000000543</td>\n",
        "      <td> P</td>\n",
        "      <td>                              amino acid transport</td>\n",
        "      <td> GO:0006865</td>\n",
        "      <td> ORF|Verified</td>\n",
        "    </tr>\n",
        "  </tbody>\n",
        "</table>\n",
        "<p>5 rows \u00d7 6 columns</p>\n",
        "</div>"
       ],
       "metadata": {},
       "output_type": "pyout",
       "prompt_number": 251,
       "text": [
        "          gene          id aspect  \\\n",
        "YBL098W   BNA4  S000000194      P   \n",
        "YBL098W   BNA4  S000000194      P   \n",
        "YBR038W   CHS2  S000000242      P   \n",
        "YBR094W   PBY1  S000000298      P   \n",
        "YCL038C  ATG22  S000000543      P   \n",
        "\n",
        "                                                      slim        goid  \\\n",
        "YBL098W                         cofactor metabolic process  GO:0051186   \n",
        "YBL098W  nucleobase-containing small molecule metabolic...  GO:0055086   \n",
        "YBR038W                                        cytokinesis  GO:0000910   \n",
        "YBR094W                                 biological_process  GO:0008150   \n",
        "YCL038C                               amino acid transport  GO:0006865   \n",
        "\n",
        "              ftrtype  \n",
        "YBL098W  ORF|Verified  \n",
        "YBL098W  ORF|Verified  \n",
        "YBR038W  ORF|Verified  \n",
        "YBR094W  ORF|Verified  \n",
        "YCL038C  ORF|Verified  \n",
        "\n",
        "[5 rows x 6 columns]"
       ]
      }
     ],
     "prompt_number": 251
    },
    {
     "cell_type": "code",
     "collapsed": false,
     "input": [
      "# reduce the information to the unique set of GO terms in cluster 1\n",
      "cluster1_slim = set(cluster1_go['slim'])"
     ],
     "language": "python",
     "metadata": {},
     "outputs": [],
     "prompt_number": 252
    },
    {
     "cell_type": "code",
     "collapsed": false,
     "input": [
      "# for each go slim term count the number of times it's found in the cluster and the number\n",
      "# of times it's found in the data set in total\n",
      "\n",
      "cluster1_cts = [(i, sum(cluster1_go['slim'] == i), sum(cluster_go['slim'] == i)) for i in cluster1_slim]"
     ],
     "language": "python",
     "metadata": {},
     "outputs": [],
     "prompt_number": 316
    },
    {
     "cell_type": "code",
     "collapsed": false,
     "input": [
      "cluster1_cts"
     ],
     "language": "python",
     "metadata": {},
     "outputs": [
      {
       "metadata": {},
       "output_type": "pyout",
       "prompt_number": 317,
       "text": [
        "[(nan, 0, 0),\n",
        " ('mitotic cell cycle', 8, 101),\n",
        " ('nucleobase-containing compound transport', 2, 12),\n",
        " ('carbohydrate metabolic process', 3, 38),\n",
        " ('chromosome segregation', 3, 48),\n",
        " ('lipid metabolic process', 6, 42),\n",
        " ('protein acylation', 1, 7),\n",
        " ('response to heat', 1, 5),\n",
        " ('response to starvation', 2, 7),\n",
        " ('transcription from RNA polymerase II promoter', 6, 48),\n",
        " ('endocytosis', 1, 6),\n",
        " ('histone modification', 2, 13),\n",
        " ('organelle assembly', 2, 11),\n",
        " ('cofactor metabolic process', 2, 15),\n",
        " ('amino acid transport', 1, 10),\n",
        " ('regulation of organelle organization', 6, 35),\n",
        " ('organelle inheritance', 1, 6),\n",
        " ('protein modification by small protein conjugation or removal', 1, 8),\n",
        " ('cellular ion homeostasis', 5, 11),\n",
        " ('conjugation', 3, 33),\n",
        " ('ion transport', 14, 43),\n",
        " ('other', 3, 28),\n",
        " ('regulation of cell cycle', 6, 50),\n",
        " ('monocarboxylic acid metabolic process', 3, 14),\n",
        " ('proteolysis involved in cellular protein catabolic process', 3, 8),\n",
        " ('cell wall organization or biogenesis', 3, 41),\n",
        " ('protein dephosphorylation', 1, 2),\n",
        " ('cytokinesis', 4, 33),\n",
        " ('chromatin organization', 2, 33),\n",
        " ('cellular respiration', 1, 10),\n",
        " ('organelle fission', 5, 53),\n",
        " ('biological_process', 7, 85),\n",
        " ('regulation of DNA metabolic process', 1, 20),\n",
        " ('regulation of transport', 2, 8),\n",
        " ('oligosaccharide metabolic process', 1, 6),\n",
        " ('protein targeting', 2, 9),\n",
        " ('endosomal transport', 1, 3),\n",
        " ('generation of precursor metabolites and energy', 2, 21),\n",
        " ('signaling', 2, 27),\n",
        " ('mitochondrion organization', 1, 12),\n",
        " ('DNA recombination', 2, 44),\n",
        " ('sporulation', 1, 19),\n",
        " ('protein phosphorylation', 4, 35),\n",
        " ('response to chemical', 5, 56),\n",
        " ('peptidyl-amino acid modification', 1, 7),\n",
        " ('transmembrane transport', 7, 22),\n",
        " ('cellular response to DNA damage stimulus', 2, 65),\n",
        " ('regulation of protein modification process', 3, 21),\n",
        " ('meiotic cell cycle', 3, 40),\n",
        " ('lipid transport', 2, 9),\n",
        " ('peroxisome organization', 1, 4),\n",
        " ('cytoskeleton organization', 5, 54),\n",
        " ('nucleobase-containing small molecule metabolic process', 2, 22),\n",
        " ('protein complex biogenesis', 2, 35)]"
       ]
      }
     ],
     "prompt_number": 317
    },
    {
     "cell_type": "markdown",
     "metadata": {},
     "source": [
      "# Carry out statistical comparisons using Hypergeometric distribution"
     ]
    },
    {
     "cell_type": "code",
     "collapsed": false,
     "input": [
      "from scipy.stats import hypergeom"
     ],
     "language": "python",
     "metadata": {},
     "outputs": [],
     "prompt_number": 255
    },
    {
     "cell_type": "code",
     "collapsed": false,
     "input": [
      "# read up on the hypergeom function\n",
      "?hypergeom"
     ],
     "language": "python",
     "metadata": {},
     "outputs": [],
     "prompt_number": 318
    },
    {
     "cell_type": "code",
     "collapsed": false,
     "input": [
      "# M = universe size (total # of objects)\n",
      "# n = # of objects with label of interest\n",
      "# N = # of draws\n",
      "\n",
      "\n",
      "\n",
      "M = len(cluster_go_overlap)\n",
      "n = 101   # this is the total number of genes which have the label \"mitotic cell cycle\"\n",
      "N = len(cluster1genes)\n",
      "\n"
     ],
     "language": "python",
     "metadata": {},
     "outputs": [],
     "prompt_number": 319
    },
    {
     "cell_type": "code",
     "collapsed": false,
     "input": [
      "\n",
      "# let's evalute the probability mass function for observing corresponding\n",
      "# number of genes \n",
      "\n",
      "rv = hypergeom(M, n, N)\n",
      "x = np.arange(0, n+1)\n",
      "pmf_mitotic = rv.pmf(x)\n",
      "\n",
      "plot(x, pmf_mitotic, 'bo')\n",
      "vlines(x, 0, pmf_mitotic, lw=2)\n",
      "xlabel(\"# of genes observed\")\n",
      "ylabel(\"probability\")"
     ],
     "language": "python",
     "metadata": {},
     "outputs": [
      {
       "metadata": {},
       "output_type": "pyout",
       "prompt_number": 322,
       "text": [
        "<matplotlib.text.Text at 0xc0dff10>"
       ]
      },
      {
       "metadata": {},
       "output_type": "display_data",
       "png": "[encoded data removed]",
       "text": [
        "<matplotlib.figure.Figure at 0xcd4c950>"
       ]
      }
     ],
     "prompt_number": 322
    },
    {
     "cell_type": "code",
     "collapsed": false,
     "input": [
      "# the \"survival function\" gives probability that you observed x or more values\n",
      "prb = hypergeom.sf(8, M, n, N)\n",
      "prb"
     ],
     "language": "python",
     "metadata": {},
     "outputs": [
      {
       "metadata": {},
       "output_type": "pyout",
       "prompt_number": 323,
       "text": [
        "0.75748220817788503"
       ]
      }
     ],
     "prompt_number": 323
    },
    {
     "cell_type": "code",
     "collapsed": false,
     "input": [
      "# let's evaluate the survival function for each GO term found in cluster 1\n",
      "M = len(cluster_go_overlap)\n",
      "N = len(cluster1genes)\n",
      "\n",
      "cluster1_probs = []\n",
      "\n",
      "for tup in cluster1_cts:\n",
      "    label, observed, total = tup\n",
      "    prb = hypergeom.sf(observed, M, total, N)\n",
      "    cluster1_probs.append( (label, observed, total, prb) )\n",
      "    \n"
     ],
     "language": "python",
     "metadata": {},
     "outputs": [],
     "prompt_number": 325
    },
    {
     "cell_type": "code",
     "collapsed": false,
     "input": [
      "cluster1_probs[:5]"
     ],
     "language": "python",
     "metadata": {},
     "outputs": [
      {
       "metadata": {},
       "output_type": "pyout",
       "prompt_number": 326,
       "text": [
        "[(nan, 0, 0, nan),\n",
        " ('mitotic cell cycle', 8, 101, 0.75748220817788503),\n",
        " ('nucleobase-containing compound transport', 2, 12, 0.11988943277672985),\n",
        " ('carbohydrate metabolic process', 3, 38, 0.57390070600436272),\n",
        " ('chromosome segregation', 3, 48, 0.76059092066274137)]"
       ]
      }
     ],
     "prompt_number": 326
    },
    {
     "cell_type": "code",
     "collapsed": false,
     "input": [
      "# show only those GO slim terms with prob < 0.05\n",
      "cluster1_sig05 = [i for i in cluster1_probs if i[-1] < 0.05]"
     ],
     "language": "python",
     "metadata": {},
     "outputs": [],
     "prompt_number": 327
    },
    {
     "cell_type": "code",
     "collapsed": false,
     "input": [
      "cluster1_sig05"
     ],
     "language": "python",
     "metadata": {},
     "outputs": [
      {
       "metadata": {},
       "output_type": "pyout",
       "prompt_number": 328,
       "text": [
        "[('response to starvation', 2, 7, 0.027856507744092287),\n",
        " ('cellular ion homeostasis', 5, 11, 0.00031321261587017007),\n",
        " ('ion transport', 14, 43, 6.15470061950543e-06),\n",
        " ('monocarboxylic acid metabolic process', 3, 14, 0.048215330466190046),\n",
        " ('proteolysis involved in cellular protein catabolic process',\n",
        "  3,\n",
        "  8,\n",
        "  0.0054733963153998965),\n",
        " ('protein dephosphorylation', 1, 2, 0.010700964871909415),\n",
        " ('regulation of transport', 2, 8, 0.041286374601291365),\n",
        " ('endosomal transport', 1, 3, 0.029933113719995842),\n",
        " ('transmembrane transport', 7, 22, 0.00089777524464465725)]"
       ]
      }
     ],
     "prompt_number": 328
    },
    {
     "cell_type": "markdown",
     "metadata": {},
     "source": [
      "## Now apply same analysis to cluster 2"
     ]
    },
    {
     "cell_type": "code",
     "collapsed": false,
     "input": [
      "cluster2genes = list(data.columns[clusters == 2])\n",
      "cluster2_go = cluster_go.ix[cluster2genes]\n",
      "cluster2_slim = set(cluster2_go['slim'])\n",
      "cluster2_cts = [(i, sum(cluster2_go['slim'] == i), sum(cluster_go['slim'] == i)) for i in cluster2_slim]\n",
      "\n",
      "# let's evalute the probability mass function for the label \"mitotic cell cycle\"\n",
      "M = len(cluster_go_overlap)\n",
      "N = len(cluster2genes)\n",
      "\n",
      "cluster2_probs = []\n",
      "\n",
      "for tup in cluster2_cts:\n",
      "    label, observed, total = tup\n",
      "    prb = hypergeom.sf(observed, M, total, N)\n",
      "    cluster2_probs.append( (label, observed, total, prb) )\n",
      "    \n",
      "cluster2_sig05 = [i for i in cluster2_probs if i[-1] < 0.05]"
     ],
     "language": "python",
     "metadata": {},
     "outputs": [],
     "prompt_number": 265
    },
    {
     "cell_type": "code",
     "collapsed": false,
     "input": [
      "cluster2_sig05"
     ],
     "language": "python",
     "metadata": {},
     "outputs": [
      {
       "metadata": {},
       "output_type": "pyout",
       "prompt_number": 266,
       "text": [
        "[('nucleobase-containing compound transport', 2, 12, 0.025872829936793712),\n",
        " ('cellular ion homeostasis', 2, 11, 0.020186137174583244),\n",
        " ('amino acid transport', 3, 10, 0.0014406136668677378),\n",
        " ('protein folding', 1, 6, 0.040585512318340497),\n",
        " ('ion transport', 7, 43, 0.0016756269423201843),\n",
        " ('cellular respiration', 5, 10, 3.9224719368922543e-06),\n",
        " ('DNA-templated transcription, termination', 1, 2, 0.0031285525042534152),\n",
        " ('RNA splicing', 1, 5, 0.028051674296943024),\n",
        " ('DNA-templated transcription, elongation', 1, 5, 0.028051674296943024),\n",
        " ('generation of precursor metabolites and energy',\n",
        "  5,\n",
        "  21,\n",
        "  0.00063792518705743),\n",
        " ('regulation of translation', 1, 2, 0.0031285525042534152),\n",
        " ('pseudohyphal growth', 2, 13, 0.032334900152096016),\n",
        " ('cellular amino acid metabolic process', 5, 27, 0.0027013672759803741),\n",
        " ('transmembrane transport', 5, 22, 0.0008409200401857087)]"
       ]
      }
     ],
     "prompt_number": 266
    },
    {
     "cell_type": "markdown",
     "metadata": {},
     "source": [
      "## Write a function to generalize the GO analysis"
     ]
    },
    {
     "cell_type": "code",
     "collapsed": false,
     "input": [
      "\n",
      "# let's write a function to generalize the above steps\n",
      "\n",
      "def calc_cluster_probs(ncluster, clusters, dataframe, go_dataframe):\n",
      "    clustergenes = list(dataframe.columns[clusters == ncluster])\n",
      "    clustern_go = go_dataframe.ix[clustergenes]\n",
      "    cluster_slim = set(clustern_go['slim'])\n",
      "    \n",
      "    shared_universe = [i for i in dataframe.columns if i in go_dataframe.index]\n",
      "    shared_go = go_dataframe.ix[shared_universe]\n",
      "\n",
      "    cluster_cts = [(i, sum(clustern_go['slim'] == i), sum(shared_go['slim'] == i)) for i in cluster_slim]\n",
      "    \n",
      "    M = len(shared_universe)\n",
      "    N = len(clustergenes)\n",
      "\n",
      "    cluster_probs = []\n",
      "    for tup in cluster_cts:\n",
      "        label, observed, total = tup\n",
      "        prb = hypergeom.sf(observed, M, total, N)\n",
      "        cluster_probs.append( (label, observed, total, prb) )\n",
      "    \n",
      "    return clustergenes, cluster_probs"
     ],
     "language": "python",
     "metadata": {},
     "outputs": [],
     "prompt_number": 298
    },
    {
     "cell_type": "code",
     "collapsed": false,
     "input": [
      "c5genes, c5probs = calc_cluster_probs(5, clusters, data, goprocess)"
     ],
     "language": "python",
     "metadata": {},
     "outputs": [],
     "prompt_number": 301
    },
    {
     "cell_type": "code",
     "collapsed": false,
     "input": [
      "[i for i in c5probs if i[-1] < 0.05]"
     ],
     "language": "python",
     "metadata": {},
     "outputs": [
      {
       "metadata": {},
       "output_type": "pyout",
       "prompt_number": 302,
       "text": [
        "[('histone modification', 1, 13, 0.048345677574978159),\n",
        " ('nucleus organization', 1, 10, 0.029335130542541433),\n",
        " ('response to oxidative stress', 1, 10, 0.029335130542541433),\n",
        " ('monocarboxylic acid metabolic process', 2, 14, 0.0056298816439781987),\n",
        " ('organelle fusion', 1, 12, 0.041600825013273328),\n",
        " ('protein modification by small protein conjugation or removal',\n",
        "  1,\n",
        "  8,\n",
        "  0.018879349630768635),\n",
        " ('conjugation', 4, 33, 0.0014598472520666705),\n",
        " ('nucleobase-containing compound transport', 1, 12, 0.041600825013273328),\n",
        " ('cell morphogenesis', 1, 7, 0.014400853485034955),\n",
        " ('regulation of transport', 1, 8, 0.018879349630768635),\n",
        " ('signaling', 4, 27, 0.00055346609617138321),\n",
        " ('response to chemical', 6, 56, 0.00043705891714981084),\n",
        " ('nuclear transport', 1, 7, 0.014400853485034955),\n",
        " ('nucleobase-containing small molecule metabolic process',\n",
        "  2,\n",
        "  22,\n",
        "  0.020615780916692378)]"
       ]
      }
     ],
     "prompt_number": 302
    },
    {
     "cell_type": "code",
     "collapsed": false,
     "input": [
      "len(c5genes)"
     ],
     "language": "python",
     "metadata": {},
     "outputs": [
      {
       "metadata": {},
       "output_type": "pyout",
       "prompt_number": 303,
       "text": [
        "20"
       ]
      }
     ],
     "prompt_number": 303
    },
    {
     "cell_type": "code",
     "collapsed": false,
     "input": [
      "for i in c5genes:\n",
      "    print i"
     ],
     "language": "python",
     "metadata": {},
     "outputs": [
      {
       "output_type": "stream",
       "stream": "stdout",
       "text": [
        "YBL064C\n",
        "YBR067C\n",
        "YBR157C\n",
        "YDR085C\n",
        "YDR191W\n",
        "YEL032W\n",
        "YFL026W\n",
        "YFL044C\n",
        "YFR015C\n",
        "YHR005C\n",
        "YIL114C\n",
        "YJL044C\n",
        "YJL067W\n",
        "YKL151C\n",
        "YLR274W\n",
        "YNL134C\n",
        "YNL145W\n",
        "YOR052C\n",
        "YOR066W\n",
        "YOR126C\n"
       ]
      }
     ],
     "prompt_number": 291
    },
    {
     "cell_type": "code",
     "collapsed": false,
     "input": [
      "# Now let's consider GO function rather than process\n",
      "gofunction = goslim[goslim['aspect'] == 'F']"
     ],
     "language": "python",
     "metadata": {},
     "outputs": [],
     "prompt_number": 304
    },
    {
     "cell_type": "code",
     "collapsed": false,
     "input": [
      "# with our function  it's easy to use an alternate GO set\n",
      "\n",
      "c5genes, c5probsF = calc_cluster_probs(5, clusters, data, gofunction)"
     ],
     "language": "python",
     "metadata": {},
     "outputs": [],
     "prompt_number": 308
    },
    {
     "cell_type": "code",
     "collapsed": false,
     "input": [
      "[i for i in c5probsF if i[-1] < 0.05]"
     ],
     "language": "python",
     "metadata": {},
     "outputs": [
      {
       "metadata": {},
       "output_type": "pyout",
       "prompt_number": 309,
       "text": [
        "[('chromatin binding', 2, 21, 0.018128580587540896),\n",
        " ('lyase activity', 1, 9, 0.023867136515862843),\n",
        " ('hydrolase activity', 7, 118, 0.0096635708061106572),\n",
        " ('GTPase activity', 1, 5, 0.0070937293388763246),\n",
        " ('peptidase activity', 1, 7, 0.014400853485034955),\n",
        " ('signal transducer activity', 2, 9, 0.0014220955329364627),\n",
        " ('helicase activity', 2, 25, 0.029168966322868157)]"
       ]
      }
     ],
     "prompt_number": 309
    },
    {
     "cell_type": "code",
     "collapsed": false,
     "input": [],
     "language": "python",
     "metadata": {},
     "outputs": [],
     "prompt_number": 309
    },
    {
     "cell_type": "code",
     "collapsed": false,
     "input": [],
     "language": "python",
     "metadata": {},
     "outputs": []
    }
   ],
   "metadata": {}
  }
 ]
}