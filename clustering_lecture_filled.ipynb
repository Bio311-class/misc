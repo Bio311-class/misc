{
 "metadata": {
  "name": ""
 },
 "nbformat": 3,
 "nbformat_minor": 0,
 "worksheets": [
  {
   "cells": [
    {
     "cell_type": "heading",
     "level": 2,
     "metadata": {},
     "source": [
      "Define functions needed for data visualization"
     ]
    },
    {
     "cell_type": "markdown",
     "metadata": {},
     "source": [
      "This code is needed to plot the spellman data. Don't worry too much if you don't understand it!"
     ]
    },
    {
     "cell_type": "code",
     "collapsed": false,
     "input": [
      "import pandas as pd\n",
      "import scipy.cluster.hierarchy as sch\n",
      "\n",
      "def YellowBlackBlue():\n",
      "    '''Returns a color dictionary to make a Cyan -> Yellow color scheme.\n",
      "    Code from http://code.activestate.com/recipes/578175-hierarchical-clustering-heatmap-python/\n",
      "    Author: Nathan Salomonis'''\n",
      "    \n",
      "    cdict = {'red':   ((0.0, 0.0, 0.0),\n",
      "                       (0.5, 0.0, 0.1),\n",
      "                       (1.0, 1.0, 1.0)),\n",
      "             'green': ((0.0, 0.0, 0.8),\n",
      "                       (0.5, 0.1, 0.0),\n",
      "                       (1.0, 1.0, 1.0)),\n",
      "             'blue':  ((0.0, 0.0, 1.0),\n",
      "                       (0.5, 0.1, 0.0),\n",
      "                       (1.0, 0.0, 0.0))\n",
      "            }\n",
      "    my_cmap = matplotlib.colors.LinearSegmentedColormap('my_colormap',cdict,256)\n",
      "    return my_cmap\n",
      "\n",
      "\n",
      "def get_expts(aList):\n",
      "    '''Get a list of 'experiments' from a list of spellman column names'''\n",
      "    expts = [\"cln\", \"clb\", \"alpha\", \"cdc15\", \"elu\", \"cdc28\"]\n",
      "    exptvec = []\n",
      "    for i in aList:\n",
      "        for j in expts:\n",
      "            if j in i:\n",
      "                exptvec.append(j)\n",
      "    return array(exptvec)\n",
      "\n",
      "def get_times(experiment_names):\n",
      "    '''Get a list of experiment times from a list of spellman column names'''\n",
      "    expstrings = [\"cln3-\", \"clb2-\", \"alpha\", \"cdc15_\", \"cdc28_\", \"elu\"]\n",
      "    timesvec = []\n",
      "    for i in experiment_names:\n",
      "        for j in expstrings:\n",
      "            i = i.replace(j, \"\")\n",
      "        timesvec.append(i)\n",
      "    timesvec = [int(i) for i in timesvec]\n",
      "    return array(timesvec)\n",
      "\n",
      "def plot_spellman( spellman_data, linkage_result):\n",
      "    \n",
      "    '''Code to make heatmaps like Spellman figure 1 given data to plot and\n",
      "    a linkage object that is created from the data to plot.\n",
      "    Returns a figure object, the left-hand corner of the figure, \n",
      "    and an array of the indexes from the dendrogram'''\n",
      "    \n",
      "    def add_subplot(theFigure, theData, axisList, ticks):\n",
      "        '''Adds a subplot to theFigure containing a heatmap of theData'''\n",
      "        axmatrix = theFigure.add_axes(axisList)\n",
      "        im = axmatrix.matshow(theData, aspect='auto', origin='lower', cmap = YellowBlackBlue(), norm=norm)\n",
      "        axmatrix.set_xticks(ticks)\n",
      "        axmatrix.set_yticks([])\n",
      "        return im, axmatrix\n",
      "    \n",
      "    #Spellman limited the color scale to log2 fold-changes between -2.8 and 2.8\n",
      "    vmin = -2.8\n",
      "    vmax = 2.8\n",
      "    norm = matplotlib.colors.Normalize(vmin/2, vmax/2)\n",
      "    \n",
      "    fig = figure(figsize = (5,7))\n",
      "    left = 0.09 #Set the first left-hand corner in the figure\n",
      "\n",
      "    #Plot a dendrogram of the linkage\n",
      "    axdendro = fig.add_axes([0.09,0.1,0.2,1])\n",
      "    Z = sch.dendrogram(linkage_result, orientation='right')\n",
      "    index = Z['leaves']\n",
      "    axdendro.set_xticks([])\n",
      "    axdendro.set_yticks([])\n",
      "    left += 0.21\n",
      "\n",
      "    \n",
      "    #Make a re-ordered version of the spellman data according to the dendrogram order\n",
      "    forPlot = spellman_data.ix[:,index].transpose()\n",
      "    \n",
      "    #Get lists booleans giving whether the column corresponds to each of the different experiments\n",
      "    clbindex = [\"clb\" in i for i in forPlot.keys()]\n",
      "    clnindex = [\"cln\" in i for i in forPlot.keys()]\n",
      "    alphaindex = [\"alpha\" in i for i in forPlot.keys()]\n",
      "    eluindex = [\"elu\" in i for i in forPlot.keys()]\n",
      "    cdc15index = [\"cdc15\" in i for i in forPlot.keys()]\n",
      "    cdc28index = [\"cdc28\" in i for i in forPlot.keys()]\n",
      "    \n",
      "    #This list gives the order of the plot and the title of the sub-plots\n",
      "    subplots = [(\"n\",clnindex), (\"b\",clbindex), (\"alpha\",alphaindex), (\"cdc15\",cdc15index), (\"cdc28\",cdc28index), (\"elu\",eluindex)]\n",
      "    \n",
      "    # For each list of columns to plot, make a sub-plot of the \n",
      "    for title, sp in subplots:\n",
      "        subwidth = sum(sp)/float(77) #width of the supplot\n",
      "        subfig = forPlot.ix[:,sp] #DataFrame containing the experiment of interest\n",
      "        times = get_times(subfig.keys()) #Extract the time from each experiment in order to get the labelling right\n",
      "        subfig = subfig.ix[:,times.argsort()] # Sort the subfigure's columns by the time\n",
      "        im, ax = add_subplot(fig, subfig, [left,0.1,subwidth, 1], []) #Add the heatmap\n",
      "        ax.set_title(title)\n",
      "        left += subwidth + 0.005 #Advance the left-hand corner\n",
      "    \n",
      "    # Add a color-bar of the data\n",
      "    axcolor = fig.add_axes([left,0.1,0.05,1]) \n",
      "    pylab.colorbar(im, cax=axcolor)\n",
      "    left += 0.05 + 0.1\n",
      "    return fig, left, array(index)"
     ],
     "language": "python",
     "metadata": {},
     "outputs": []
    },
    {
     "cell_type": "heading",
     "level": 2,
     "metadata": {},
     "source": [
      "Read in and process Spellman data and CDC scores"
     ]
    },
    {
     "cell_type": "markdown",
     "metadata": {},
     "source": [
      "This code is what we used last time to clean up the Spellman data"
     ]
    },
    {
     "cell_type": "code",
     "collapsed": false,
     "input": [
      "rawdata = pd.read_table(\"spellman-combined.txt\", index_col=0)\n",
      "todrop = ['clb', 'alpha', 'cdc15', 'cdc28', 'elu']\n",
      "dropraw = rawdata.drop( todrop, 1 )\n",
      "dropT = dropraw.T\n",
      "keep = dropT.count() > 77 - 8\n",
      "dropT = dropT[ keep.index[keep] ]"
     ],
     "language": "python",
     "metadata": {},
     "outputs": []
    },
    {
     "cell_type": "markdown",
     "metadata": {},
     "source": [
      "This code reads in the Spellman \"CDC\" score data, the orders it according to the 'dropT' gene list"
     ]
    },
    {
     "cell_type": "code",
     "collapsed": false,
     "input": [
      "#Read in spellman data as \"scores\"\n",
      "scores = pd.read_table(\"orf_data.txt\", index_col=0).transpose() ### Your code here ( Look at the previous code block for an example )"
     ],
     "language": "python",
     "metadata": {},
     "outputs": []
    },
    {
     "cell_type": "code",
     "collapsed": false,
     "input": [
      "#Order the scores DataFrame by the keys (genes) in dropT\n",
      "dropScores = scores[ dropT.keys()] ### Your code here (Remember that they both have the same 'keys'!)\n",
      "dropScores = dropScores.transpose()\n",
      "dropScores.head()"
     ],
     "language": "python",
     "metadata": {},
     "outputs": []
    },
    {
     "cell_type": "markdown",
     "metadata": {},
     "source": [
      "Spellman clustered genes with a CDC score greater than 1.314"
     ]
    },
    {
     "cell_type": "code",
     "collapsed": false,
     "input": [
      "toCluster = dropScores[\"SCORE\"] > 1.314\n",
      "spellmanToCluster = dropT.ix[:,toCluster]# Your code here (Remember the 'scores' and 'dropT' DataFrames are in the same order!)"
     ],
     "language": "python",
     "metadata": {},
     "outputs": []
    },
    {
     "cell_type": "markdown",
     "metadata": {},
     "source": [
      "Spellman used the Spearman's correlation coefficient as a similarity metric ( see Eisen et al. (1998) \"Cluster analysis and display of genome-wide expression patterns \")."
     ]
    },
    {
     "cell_type": "code",
     "collapsed": false,
     "input": [
      "D = 1 - spellmanToCluster.corr()## Your code here (remember last lecture on calculating correlations in pandas!)\n",
      "D.shape"
     ],
     "language": "python",
     "metadata": {},
     "outputs": []
    },
    {
     "cell_type": "markdown",
     "metadata": {},
     "source": [
      "Use the built in 'linkage' function from pylab to do hierarchical clustering on the data"
     ]
    },
    {
     "cell_type": "code",
     "collapsed": false,
     "input": [
      "UPGMA = sch.linkage(D, method = \"average\") \n",
      "single = sch.linkage(D, method = \"single\")## Your code here\n",
      "centroid = sch.linkage(D, method = \"centroid\")## Your code here"
     ],
     "language": "python",
     "metadata": {},
     "outputs": []
    },
    {
     "cell_type": "markdown",
     "metadata": {},
     "source": [
      "Plot the UPGMA dendrogram"
     ]
    },
    {
     "cell_type": "code",
     "collapsed": false,
     "input": [
      "fig = figure(figsize = (5,7))\n",
      "axdendro = fig.add_axes([0.09,0.1,0.2,1])\n",
      "theDendrogram = sch.dendrogram(UPGMA, orientation='right')"
     ],
     "language": "python",
     "metadata": {},
     "outputs": []
    },
    {
     "cell_type": "code",
     "collapsed": false,
     "input": [
      "# Examine the leaves of the dendrogram\n",
      "theDendrogram['leaves'][:10]\n",
      "len(theDendrogram['leaves'])"
     ],
     "language": "python",
     "metadata": {},
     "outputs": []
    },
    {
     "cell_type": "heading",
     "level": 2,
     "metadata": {},
     "source": [
      "Plot the three clustered versions of the Spellman data"
     ]
    },
    {
     "cell_type": "code",
     "collapsed": false,
     "input": [
      "fig, left, index = plot_spellman(spellmanToCluster, UPGMA)"
     ],
     "language": "python",
     "metadata": {},
     "outputs": []
    },
    {
     "cell_type": "code",
     "collapsed": false,
     "input": [
      "fig_single, left_single, index_single = plot_spellman(spellmanToCluster, single)"
     ],
     "language": "python",
     "metadata": {},
     "outputs": []
    },
    {
     "cell_type": "code",
     "collapsed": false,
     "input": [
      "fig_centroid, left_centroid, index_centroid = plot_spellman(spellmanToCluster, centroid)"
     ],
     "language": "python",
     "metadata": {},
     "outputs": []
    },
    {
     "cell_type": "heading",
     "level": 2,
     "metadata": {},
     "source": [
      "Extract three of the Spellman clusters from the UPGMA dendrogram"
     ]
    },
    {
     "cell_type": "code",
     "collapsed": false,
     "input": [
      "#Add a sub-plot that shows the indices of particular Spellman clusters\n",
      "ax = fig.add_axes([left + 0.005, 0.1, 0.05, 1])\n",
      "ax.set_ylim(0, len(index))\n",
      "ax.invert_yaxis()\n",
      "\n",
      "#This is the only part you need to understand!\n",
      "ax.plot( [0,0], [723,700], label = \"CLB2\")\n",
      "ax.plot( [0,0], [162,153], label = \"Histones\")\n",
      "ax.plot( [0,0], [420,300], label = \"CLN3\")\n",
      "\n",
      "#Set aethetics of the plot\n",
      "ax.set_xticks([])\n",
      "ax.yaxis.tick_right()\n",
      "ax.legend(bbox_to_anchor = (10, 0.5))\n",
      "fig"
     ],
     "language": "python",
     "metadata": {},
     "outputs": []
    },
    {
     "cell_type": "code",
     "collapsed": false,
     "input": [
      "#Get a DataFrame of the genes that are clustered. Restrict to the alpha-factor experiment\n",
      "clusters = dropT.ix[:,toCluster]\n",
      "clusters = clusters.transpose()\n",
      "clusters = clusters.ix[:, get_expts(dropT.index) == \"alpha\"]\n",
      "\n",
      "#This is the time that each of the alpha-factor experimental conditions correspond to\n",
      "times = get_times(clusters.keys())\n",
      "\n",
      "#Add a column giving which cluster the \n",
      "clusters[\"Cluster\"] = \"none\" #Ignore the warning or run it twice to get rid of it\n",
      "clusters.ix[ index >= 710, \"Cluster\" ] = \"CLB2\"\n",
      "clusters.ix[(index >= 153) & (index <= 162), \"Cluster\" ] = \"Histones\"\n",
      "clusters.ix[(index >= 300) & (index <= 420), \"Cluster\" ] = \"CLN3\"\n",
      "clusters.head()"
     ],
     "language": "python",
     "metadata": {},
     "outputs": []
    },
    {
     "cell_type": "code",
     "collapsed": false,
     "input": [
      "#Calculate the mean expression at each time-point for each cluster\n",
      "grouped2 = clusters.groupby(\"Cluster\")# Code to group the clusters DataFrame by \"Cluster\"\n",
      "groupMeans = grouped2.mean()# Code to calculate the mean across the grouped data\n",
      "groupMeans.head()"
     ],
     "language": "python",
     "metadata": {},
     "outputs": []
    },
    {
     "cell_type": "code",
     "collapsed": false,
     "input": [
      "groupMeans = groupMeans.reset_index() #You need to do this for the parallel_coordinates plot\n",
      "groupMeans.head()"
     ],
     "language": "python",
     "metadata": {},
     "outputs": []
    },
    {
     "cell_type": "code",
     "collapsed": false,
     "input": [
      "from pandas.tools.plotting import parallel_coordinates\n",
      "\n",
      "ax = parallel_coordinates(groupMeans,'Cluster', colors = ['black', 'red', 'blue', 'darkorange', 'darkgreen'], linewidth = 2)\n",
      "\n",
      "#Plot aesthetics\n",
      "ax.legend(bbox_to_anchor = (1.4, 0.5))\n",
      "ax.set_xticklabels(times)\n",
      "ax.figure.set_figheight(7)\n",
      "ax.figure.set_figwidth(7)\n",
      "xlabel(\"Time after alpha factor is removed (min)\")\n",
      "ylabel(\"log2 fold-change\")"
     ],
     "language": "python",
     "metadata": {},
     "outputs": []
    },
    {
     "cell_type": "heading",
     "level": 2,
     "metadata": {},
     "source": [
      "The function 'fcluster' can be used to 'cut' the dendrogram into flat clusters"
     ]
    },
    {
     "cell_type": "code",
     "collapsed": false,
     "input": [
      "clusters[\"Cluster\"] = sch.fcluster( UPGMA, 5, criterion=\"maxclust\")\n",
      "clusters.head()"
     ],
     "language": "python",
     "metadata": {},
     "outputs": []
    },
    {
     "cell_type": "code",
     "collapsed": false,
     "input": [
      "# Code to visualize the new clusters\n",
      "grouped2 = clusters.groupby(\"Cluster\")# Code to group the clusters DataFrame by \"Cluster\"\n",
      "groupMeans = grouped2.mean()# Code to calculate the mean across the grouped data\n",
      "groupMeans = groupMeans.reset_index()\n",
      "\n",
      "ax = parallel_coordinates(groupMeans,'Cluster', colors = ['black', 'red', 'blue', 'darkorange', 'darkgreen'], linewidth = 2)\n",
      "\n",
      "#Plot aesthetics\n",
      "ax.legend(bbox_to_anchor = (1.4, 0.5))\n",
      "ax.set_xticklabels(times)\n",
      "ax.figure.set_figheight(7)\n",
      "ax.figure.set_figwidth(7)\n",
      "xlabel(\"Time after alpha factor is removed (min)\")\n",
      "ylabel(\"log2 fold-change\")"
     ],
     "language": "python",
     "metadata": {},
     "outputs": []
    },
    {
     "cell_type": "code",
     "collapsed": false,
     "input": [],
     "language": "python",
     "metadata": {},
     "outputs": []
    }
   ],
   "metadata": {}
  }
 ]
}